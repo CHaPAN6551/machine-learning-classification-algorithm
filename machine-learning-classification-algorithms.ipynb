{
 "cells": [
  {
   "cell_type": "code",
   "execution_count": null,
   "id": "2c12aa39",
   "metadata": {},
   "outputs": [],
   "source": [
    "# Importing the Python libraries\n",
    "\n",
    "import pandas as pd\n",
    "import numpy as np\n",
    "import matplotlib.pyplot as plt\n",
    "import seaborn as sns\n",
    "import plotly.express as px\n",
    "import plotly.graph_objects as go\n",
    "from imblearn.over_sampling import SMOTE\n",
    "from sklearn.model_selection import train_test_split\n",
    "from sklearn.preprocessing import StandardScaler\n",
    "from sklearn.feature_selection import RFE\n",
    "from sklearn.feature_selection import SelectKBest, chi2\n",
    "from sklearn.tree import DecisionTreeClassifier\n",
    "from sklearn.ensemble import RandomForestClassifier\n",
    "from sklearn.linear_model import LogisticRegression\n",
    "from sklearn.neighbors import KNeighborsClassifier\n",
    "from sklearn.svm import SVC\n",
    "from sklearn.neural_network import MLPClassifier\n",
    "from sklearn.ensemble import GradientBoostingClassifier\n",
    "from sklearn.model_selection import GridSearchCV\n",
    "from sklearn.model_selection import cross_val_predict\n",
    "from sklearn.metrics import accuracy_score, classification_report, confusion_matrix, roc_curve, roc_auc_score\n",
    "from sklearn.model_selection import StratifiedKFold\n",
    "import warnings\n",
    "warnings.filterwarnings('ignore')\n",
    "from sklearn.tree import plot_tree"
   ]
  },
  {
   "cell_type": "markdown",
   "id": "286d3606",
   "metadata": {},
   "source": [
    "# Perform Machine learning using RNAseq dataset"
   ]
  },
  {
   "cell_type": "code",
   "execution_count": null,
   "id": "8c016dd8",
   "metadata": {},
   "outputs": [],
   "source": [
    "# Read an excel file.\n",
    "\n",
    "df = pd.read_excel('cancer_rcc.xlsx')\n",
    "df.head(5)"
   ]
  },
  {
   "cell_type": "code",
   "execution_count": null,
   "id": "4572156f",
   "metadata": {},
   "outputs": [],
   "source": [
    "# Prints information about a DataFrame\n",
    "\n",
    "df.info()"
   ]
  },
  {
   "cell_type": "code",
   "execution_count": null,
   "id": "7aae1367",
   "metadata": {},
   "outputs": [],
   "source": [
    "# Count NaN values in DataFrame\n",
    "\n",
    "df.isna().sum()"
   ]
  },
  {
   "cell_type": "code",
   "execution_count": null,
   "id": "c0e56fc6",
   "metadata": {},
   "outputs": [],
   "source": [
    "df.describe().round(2)"
   ]
  },
  {
   "cell_type": "code",
   "execution_count": null,
   "id": "4727550b",
   "metadata": {},
   "outputs": [],
   "source": [
    "sns.pairplot(df, hue = 'cancer') "
   ]
  },
  {
   "cell_type": "code",
   "execution_count": null,
   "id": "3220b015",
   "metadata": {},
   "outputs": [],
   "source": [
    "X = df.drop('cancer', axis = 'columns')\n",
    "y = df['cancer']"
   ]
  },
  {
   "cell_type": "code",
   "execution_count": null,
   "id": "d40907e6",
   "metadata": {},
   "outputs": [],
   "source": [
    "X.shape, y.shape"
   ]
  },
  {
   "cell_type": "code",
   "execution_count": null,
   "id": "8a8e941a",
   "metadata": {},
   "outputs": [],
   "source": [
    "X_train, X_test, y_train, y_test = train_test_split(X, y, test_size = 0.2, random_state = 50)"
   ]
  },
  {
   "cell_type": "code",
   "execution_count": null,
   "id": "44155736",
   "metadata": {},
   "outputs": [],
   "source": [
    "y_train.value_counts(), y_test.value_counts()"
   ]
  },
  {
   "cell_type": "code",
   "execution_count": null,
   "id": "efc37ddb",
   "metadata": {},
   "outputs": [],
   "source": [
    "n_features = [10, 5, 3, 2, 1]\n",
    "\n",
    "model = DecisionTreeClassifier()\n",
    "column_names = X.columns.tolist()\n",
    "\n",
    "# Iterate over the n_features_to_select values\n",
    "for n in n_features:\n",
    "    rfe = RFE(estimator = model, n_features_to_select = n)\n",
    "\n",
    "    rfe.fit(X_train, y_train)\n",
    "\n",
    "    selected_feature_indices = [i for i, support in enumerate(rfe.support_) if support]\n",
    "\n",
    "    X_train_selected = X_train.iloc[:, selected_feature_indices]\n",
    "    X_test_selected = X_test.iloc[:, selected_feature_indices]\n",
    "\n",
    "    model.fit(X_train_selected, y_train)\n",
    "\n",
    "    y_pred = model.predict(X_test_selected)\n",
    "\n",
    "    # Calculate the accuracy score\n",
    "    accuracy = accuracy_score(y_test, y_pred)\n",
    "\n",
    "    # Print the selected features and accuracy\n",
    "    print(f\"Number of Selected Features = {n}\")\n",
    "    print(\"Selected Features\")\n",
    "    for col in X_train_selected.columns:\n",
    "        print(col)\n",
    "    print(\"-------------------------------------------\")    \n",
    "    print(\"Accuracy:\", accuracy)\n",
    "    print(\"-------------------------------------------\")\n",
    "    print(\"Classification report\")\n",
    "    print()\n",
    "    print(classification_report(y_test, y_pred))\n",
    "    print(\"-------------------------------------------\")"
   ]
  },
  {
   "cell_type": "code",
   "execution_count": null,
   "id": "dc595c5d",
   "metadata": {},
   "outputs": [],
   "source": [
    "# Select two candidate features from RFE\n",
    "\n",
    "cols = ['NDUFA4L2', 'SLC6A3']"
   ]
  },
  {
   "cell_type": "code",
   "execution_count": null,
   "id": "75018233",
   "metadata": {},
   "outputs": [],
   "source": [
    "X = df[cols]\n",
    "y = df['cancer']"
   ]
  },
  {
   "cell_type": "code",
   "execution_count": null,
   "id": "fac3f95f",
   "metadata": {},
   "outputs": [],
   "source": [
    "# Split data into 70% training set and 30% testing set\n",
    "\n",
    "from sklearn.model_selection import train_test_split\n",
    "X_train, X_test, y_train, y_test = train_test_split(X, y , \n",
    "                                                    random_state = 55, \n",
    "                                                    test_size = 0.25)"
   ]
  },
  {
   "cell_type": "code",
   "execution_count": null,
   "id": "eb3b3efa",
   "metadata": {},
   "outputs": [],
   "source": [
    "y_train.value_counts(), y_test.value_counts()"
   ]
  },
  {
   "cell_type": "code",
   "execution_count": null,
   "id": "0cd6a8c4",
   "metadata": {},
   "outputs": [],
   "source": [
    "# Standardizing data with StandardScaler() function\n",
    "\n",
    "sc = StandardScaler()\n",
    "X_train =  sc.fit_transform(X_train)\n",
    "X_test =  sc.fit_transform(X_test)"
   ]
  },
  {
   "cell_type": "markdown",
   "id": "622780f0",
   "metadata": {},
   "source": [
    "### Perform supervised machine learning algorithms\n",
    "- Logistic regression\n",
    "- K-nearest neighbors\n",
    "- Decision tree\n",
    "- Random forest\n",
    "- Support vector machine\n",
    "- Artificial neural network"
   ]
  },
  {
   "cell_type": "code",
   "execution_count": null,
   "id": "d99266ec",
   "metadata": {},
   "outputs": [],
   "source": [
    "models = {'Logistic Regression': LogisticRegression(), \n",
    "          'K-Nearest Neighbors ': KNeighborsClassifier(),\n",
    "          'Decision Tree': DecisionTreeClassifier(),\n",
    "          'Random Forest': RandomForestClassifier(),\n",
    "          'Support Vector Machine': SVC(),\n",
    "          'Multilayer Perceptron': MLPClassifier()}"
   ]
  },
  {
   "cell_type": "code",
   "execution_count": null,
   "id": "06a7c44c",
   "metadata": {},
   "outputs": [],
   "source": [
    "#Define function for determining of model scores\n",
    "\n",
    "def model_score(models, X_train, X_test, y_train, y_test): \n",
    "    np.random.seed(50)\n",
    "    model_scores = {}\n",
    "    for model_name, model in models.items():\n",
    "        model.fit(X_train, y_train)\n",
    "        model_scores[model_name] = model.score(X_test, y_test)\n",
    "    model_scores = pd.DataFrame(model_scores, index=['Score']).transpose()\n",
    "    model_scores = model_scores.sort_values('Score', ascending=False)\n",
    "    return model_scores"
   ]
  },
  {
   "cell_type": "code",
   "execution_count": null,
   "id": "ba29864b",
   "metadata": {},
   "outputs": [],
   "source": [
    "supervised_model_scores = model_score(models, X_train, X_test, y_train, y_test)\n",
    "supervised_model_scores.style.background_gradient(cmap = 'Reds')"
   ]
  },
  {
   "cell_type": "code",
   "execution_count": null,
   "id": "4192c5fc",
   "metadata": {},
   "outputs": [],
   "source": [
    "dt = DecisionTreeClassifier(random_state=50)\n",
    "param_grid = {'max_depth': [3, 5, 7, 10],\n",
    "              'min_samples_split': [2, 5, 10],\n",
    "              'min_samples_leaf': [1, 2, 4],\n",
    "              'criterion': ['gini', 'entropy']}\n",
    "cv = StratifiedKFold(n_splits=3, shuffle=True, random_state=50)"
   ]
  },
  {
   "cell_type": "code",
   "execution_count": null,
   "id": "a84615e7",
   "metadata": {},
   "outputs": [],
   "source": [
    "# Use GridSearchCV to find the best hyperparameters\n",
    "\n",
    "grid_search = GridSearchCV(dt, param_grid=param_grid, cv=cv, n_jobs=-1, verbose=3)\n",
    "grid_search.fit(X_train, y_train)\n",
    "print(\"Best parameters for decision tree:\")\n",
    "print(grid_search.best_params_)\n",
    "print(\"Best score for decision tree: {:.2f}%\".format(grid_search.best_score_*100))"
   ]
  },
  {
   "cell_type": "code",
   "execution_count": null,
   "id": "71529515",
   "metadata": {},
   "outputs": [],
   "source": [
    "# Evaluate the decision tree model's performance on the testing data\n",
    "\n",
    "from sklearn.metrics import accuracy_score, classification_report, plot_confusion_matrix, plot_roc_curve\n",
    "y_pred = grid_search.predict(X_test)\n",
    "test_accuracy = accuracy_score(y_test, y_pred)\n",
    "print(\"Accuracy of decision tree on testing data: {:.2f}%\".format(test_accuracy*100))\n",
    "print()\n",
    "print(classification_report(y_test, y_pred))"
   ]
  },
  {
   "cell_type": "code",
   "execution_count": null,
   "id": "38eaab74",
   "metadata": {},
   "outputs": [],
   "source": [
    "# Plot the confusion matrix and ROC curve\n",
    "\n",
    "plot_confusion_matrix(grid_search, X_test, y_test, cmap = plt.cm.Blues)\n",
    "plt.title('Confusion Matrix (Decision Tree)', fontsize = 16)\n",
    "plt.xlabel('Predicted Label', fontsize = 14)\n",
    "plt.ylabel('True Label', fontsize = 14)\n",
    "plt.show()"
   ]
  },
  {
   "cell_type": "code",
   "execution_count": null,
   "id": "436cfbf7",
   "metadata": {},
   "outputs": [],
   "source": [
    "plot_roc_curve(grid_search, X_test, y_test)\n",
    "plt.show()"
   ]
  },
  {
   "cell_type": "code",
   "execution_count": null,
   "id": "5d490a65",
   "metadata": {},
   "outputs": [],
   "source": [
    "# Plot the decision tree\n",
    "\n",
    "plt.figure(figsize = (10, 8))\n",
    "plot_tree(grid_search.best_estimator_, feature_names = X.columns, class_names=['Class 0', 'Class 1'], filled=True)\n",
    "plt.title('Decision Tree', fontsize=16)\n",
    "plt.show()"
   ]
  },
  {
   "cell_type": "markdown",
   "id": "dde42915",
   "metadata": {},
   "source": [
    "# Perform Machine learning in IHC dataset "
   ]
  },
  {
   "cell_type": "code",
   "execution_count": null,
   "id": "b511e197",
   "metadata": {},
   "outputs": [],
   "source": [
    "df2 = pd.read_csv('CCRCC.csv')\n",
    "df2.head()"
   ]
  },
  {
   "cell_type": "code",
   "execution_count": null,
   "id": "9991695d",
   "metadata": {},
   "outputs": [],
   "source": [
    "df2.RCC_subtype.value_counts()  "
   ]
  },
  {
   "cell_type": "code",
   "execution_count": null,
   "id": "3976e857",
   "metadata": {},
   "outputs": [],
   "source": [
    "df2.columns"
   ]
  },
  {
   "cell_type": "code",
   "execution_count": null,
   "id": "2511ee21",
   "metadata": {},
   "outputs": [],
   "source": [
    "cols_df2 = ['NDUFA4L2', 'DAT']"
   ]
  },
  {
   "cell_type": "code",
   "execution_count": null,
   "id": "629effc5",
   "metadata": {},
   "outputs": [],
   "source": [
    "# Extract features and target variables\n",
    "\n",
    "X2 = df2[cols_df2]\n",
    "y2 = df2['RCC_subtype']"
   ]
  },
  {
   "cell_type": "code",
   "execution_count": null,
   "id": "d3b6cef9",
   "metadata": {},
   "outputs": [],
   "source": [
    "# To solve the imbalance problem between categories 0 and 1. \n",
    "# Apply SMOTE (Synthetic Minority Oversampling Technique) – Oversampling\n",
    "\n",
    "sm = SMOTE(sampling_strategy = 0.90, random_state = 40)\n",
    "X_resampled, y_resampled = sm.fit_resample(X2, y2)"
   ]
  },
  {
   "cell_type": "code",
   "execution_count": null,
   "id": "a441031c",
   "metadata": {},
   "outputs": [],
   "source": [
    "X2.shape, y2.shape, X_resampled.shape, y_resampled.shape "
   ]
  },
  {
   "cell_type": "code",
   "execution_count": null,
   "id": "b7f18f7a",
   "metadata": {},
   "outputs": [],
   "source": [
    "y2.value_counts(), y_resampled.value_counts()"
   ]
  },
  {
   "cell_type": "code",
   "execution_count": null,
   "id": "fff3c266",
   "metadata": {},
   "outputs": [],
   "source": [
    "# Split data into train and test set\n",
    "\n",
    "X_train, X_test, y_train, y_test = train_test_split(X_resampled, y_resampled, test_size = 0.2, random_state = 50)"
   ]
  },
  {
   "cell_type": "code",
   "execution_count": null,
   "id": "83047703",
   "metadata": {},
   "outputs": [],
   "source": [
    "# Select ML models that are good for small datasets include logistic regression, decision trees, and random forests\n",
    "# More complex models (like SVM or MLP) require a large amount of data to generalize well\n",
    "\n",
    "models2 = {'Logistic Regression': LogisticRegression(), \n",
    "          'Decision Tree': DecisionTreeClassifier(),\n",
    "          'Random Forest': RandomForestClassifier(),\n",
    "          'Gradient Boosting': GradientBoostingClassifier()\n",
    "}"
   ]
  },
  {
   "cell_type": "code",
   "execution_count": null,
   "id": "6eb77f58",
   "metadata": {},
   "outputs": [],
   "source": [
    "supervised_model_scores = model_score(models2, X_train, X_test, y_train, y_test)\n",
    "supervised_model_scores.style.background_gradient(cmap = 'Reds')"
   ]
  },
  {
   "cell_type": "markdown",
   "id": "5b686632",
   "metadata": {},
   "source": [
    "## Random Forest"
   ]
  },
  {
   "cell_type": "code",
   "execution_count": null,
   "id": "faa1a610",
   "metadata": {},
   "outputs": [],
   "source": [
    "# Tuning the best parameters for Random Forest using GridSearchCV\n",
    "\n",
    "grid_values = { \n",
    "    'n_estimators': [100, 200, 300, 400, 500],\n",
    "    'max_features': ['auto', 'sqrt', 'log2'],\n",
    "    'max_depth' : [2, 3, 4, 5, 6, 7, 8, 9, 10],\n",
    "    'criterion' :['gini', 'entropy']\n",
    "}\n",
    "cross_validation = StratifiedKFold(n_splits = 3, shuffle=True, random_state= 42)\n",
    "rfc = RandomForestClassifier()"
   ]
  },
  {
   "cell_type": "code",
   "execution_count": null,
   "id": "aa6e41fe",
   "metadata": {},
   "outputs": [],
   "source": [
    "grid_search_RF = GridSearchCV(rfc, param_grid = grid_values, cv = cross_validation, n_jobs = -1, verbose = 3)\n",
    "grid_search_RF.fit(X_train, y_train)"
   ]
  },
  {
   "cell_type": "code",
   "execution_count": null,
   "id": "b2bb72e0",
   "metadata": {},
   "outputs": [],
   "source": [
    "print(\"Best parameters for Random Forest:\")\n",
    "print(grid_search_RF.best_params_)\n",
    "accuracy = grid_search_RF.best_score_ *100\n",
    "print(\"Accuracy: {:.2f}%\".format(accuracy) )"
   ]
  },
  {
   "cell_type": "code",
   "execution_count": null,
   "id": "41fb8b12",
   "metadata": {
    "scrolled": true
   },
   "outputs": [],
   "source": [
    "y_prediction = grid_search_RF.predict(X_test) \n",
    "\n",
    "test_accuracy= accuracy_score(y_test, y_prediction)*100\n",
    "\n",
    "print(\"Accuracy of RF is: {:.2f}%\".format(test_accuracy))\n",
    "print()\n",
    "print(classification_report(y_test, y_prediction))"
   ]
  },
  {
   "cell_type": "code",
   "execution_count": null,
   "id": "65f7aa7c",
   "metadata": {},
   "outputs": [],
   "source": [
    "# Plot the confusion matrix of Random Forest model\n",
    "\n",
    "plot_confusion_matrix(grid_search_RF, X_test, y_test, cmap=plt.cm.Blues)\n",
    "plt.title('Confusion Matrix (RF)', fontsize = 16)\n",
    "plt.xlabel('Predicted Label', fontsize = 14)\n",
    "plt.ylabel('True Label', fontsize = 14)\n",
    "plt.show()"
   ]
  },
  {
   "cell_type": "code",
   "execution_count": null,
   "id": "d471194a",
   "metadata": {},
   "outputs": [],
   "source": [
    "plot_roc_curve(grid_search_RF, X_test, y_test)\n",
    "plt.show()"
   ]
  },
  {
   "cell_type": "markdown",
   "id": "ea91e256",
   "metadata": {},
   "source": [
    "## Logistic Regression"
   ]
  },
  {
   "cell_type": "code",
   "execution_count": null,
   "id": "efb1c2e5",
   "metadata": {},
   "outputs": [],
   "source": [
    "logreg = LogisticRegression(max_iter=10000)\n",
    "param_grid = {'C': [0.1, 1, 10, 100],\n",
    "              'penalty': ['l1', 'l2', 'elasticnet', 'none'],\n",
    "              'solver': ['lbfgs', 'liblinear', 'sag', 'saga']}\n",
    "cv = StratifiedKFold(n_splits=3, shuffle=True, random_state=50)"
   ]
  },
  {
   "cell_type": "code",
   "execution_count": null,
   "id": "bb319c8c",
   "metadata": {},
   "outputs": [],
   "source": [
    "# Use GridSearchCV to find the best hyperparameters\n",
    "\n",
    "grid_search = GridSearchCV(logreg, param_grid=param_grid, cv=cv, n_jobs=-1, verbose=3)\n",
    "grid_search.fit(X_train, y_train)\n",
    "print(\"Best parameters for logistic regression:\")\n",
    "print(grid_search.best_params_)\n",
    "print(\"Best score for logistic regression: {:.2f}%\".format(grid_search.best_score_*100))"
   ]
  },
  {
   "cell_type": "code",
   "execution_count": null,
   "id": "956d2e98",
   "metadata": {},
   "outputs": [],
   "source": [
    "# Evaluate the logistic regression model's performance on the testing data\n",
    "\n",
    "from sklearn.metrics import accuracy_score, classification_report, plot_confusion_matrix, plot_roc_curve\n",
    "y_pred = grid_search.predict(X_test)\n",
    "test_accuracy = accuracy_score(y_test, y_pred)\n",
    "print(\"Accuracy of logistic regression on testing data: {:.2f}%\".format(test_accuracy*100))\n",
    "print()\n",
    "print(classification_report(y_test, y_pred))"
   ]
  },
  {
   "cell_type": "code",
   "execution_count": null,
   "id": "511e0349",
   "metadata": {},
   "outputs": [],
   "source": [
    "# Plot the confusion matrix and ROC curve\n",
    "\n",
    "plot_confusion_matrix(grid_search, X_test, y_test, cmap=plt.cm.Blues)\n",
    "plt.title('Confusion Matrix (Logistic Regression)', fontsize=16)\n",
    "plt.xlabel('Predicted Label', fontsize=14)\n",
    "plt.ylabel('True Label', fontsize=14)\n",
    "plt.show()"
   ]
  },
  {
   "cell_type": "code",
   "execution_count": null,
   "id": "09fb519f",
   "metadata": {},
   "outputs": [],
   "source": [
    "plot_roc_curve(grid_search, X_test, y_test)\n",
    "plt.show()"
   ]
  },
  {
   "cell_type": "markdown",
   "id": "fa5b511b",
   "metadata": {},
   "source": [
    "## Decision Tree"
   ]
  },
  {
   "cell_type": "code",
   "execution_count": null,
   "id": "26dfdb90",
   "metadata": {},
   "outputs": [],
   "source": [
    "dt = DecisionTreeClassifier(random_state = 10)\n",
    "param_grid = {'max_depth': [3, 5, 7, 10],\n",
    "              'min_samples_split': [2, 5, 10],\n",
    "              'min_samples_leaf': [1, 2, 4],\n",
    "              'criterion': ['gini', 'entropy']}\n",
    "cv = StratifiedKFold(n_splits = 3, shuffle = True, random_state = 10)"
   ]
  },
  {
   "cell_type": "code",
   "execution_count": null,
   "id": "873d333b",
   "metadata": {},
   "outputs": [],
   "source": [
    "# Use GridSearchCV to find the best hyperparameters\n",
    "\n",
    "grid_search = GridSearchCV(dt, param_grid=param_grid, cv=cv, n_jobs=-1, verbose=3)\n",
    "grid_search.fit(X_train, y_train)\n",
    "print(\"Best parameters for decision tree:\")\n",
    "print(grid_search.best_params_)\n",
    "print(\"Best score for decision tree: {:.2f}%\".format(grid_search.best_score_*100))"
   ]
  },
  {
   "cell_type": "code",
   "execution_count": null,
   "id": "25014013",
   "metadata": {},
   "outputs": [],
   "source": [
    "# Evaluate the decision tree model's performance on the testing data\n",
    "\n",
    "from sklearn.metrics import accuracy_score, classification_report, plot_confusion_matrix, plot_roc_curve\n",
    "y_pred = grid_search.predict(X_test)\n",
    "test_accuracy = accuracy_score(y_test, y_pred)\n",
    "print(\"Accuracy of decision tree on testing data: {:.2f}%\".format(test_accuracy*100))\n",
    "print()\n",
    "print(classification_report(y_test, y_pred))"
   ]
  },
  {
   "cell_type": "code",
   "execution_count": null,
   "id": "3bc67a5b",
   "metadata": {},
   "outputs": [],
   "source": [
    "# Plot the confusion matrix and ROC curve\n",
    "\n",
    "plot_confusion_matrix(grid_search, X_test, y_test, cmap=plt.cm.Blues)\n",
    "plt.title('Confusion Matrix (Decision Tree)', fontsize=16)\n",
    "plt.xlabel('Predicted Label', fontsize=14)\n",
    "plt.ylabel('True Label', fontsize=14)\n",
    "plt.show()"
   ]
  },
  {
   "cell_type": "code",
   "execution_count": null,
   "id": "88ce4d40",
   "metadata": {},
   "outputs": [],
   "source": [
    "plot_roc_curve(grid_search, X_test, y_test)\n",
    "plt.show()"
   ]
  },
  {
   "cell_type": "markdown",
   "id": "c499e2ca",
   "metadata": {},
   "source": [
    "## Gradient Boosting"
   ]
  },
  {
   "cell_type": "code",
   "execution_count": null,
   "id": "e744e7f6",
   "metadata": {},
   "outputs": [],
   "source": [
    "gbc = GradientBoostingClassifier()\n",
    "\n",
    "param_grid = { \n",
    "    'n_estimators': [100, 200, 300, 400, 500],\n",
    "    'learning_rate': [0.1, 0.01, 0.001],\n",
    "    'max_depth' : [3, 4, 5, 6, 7, 8],\n",
    "    'subsample' : [0.6, 0.7, 0.8, 0.9, 1.0],\n",
    "    'max_features': ['sqrt', 'log2']\n",
    "}\n",
    "\n",
    "cv = StratifiedKFold(n_splits=3, shuffle=True, random_state=50)"
   ]
  },
  {
   "cell_type": "code",
   "execution_count": null,
   "id": "69d46b31",
   "metadata": {},
   "outputs": [],
   "source": [
    "grid_search_GB = GridSearchCV(gbc, param_grid = param_grid, cv = cv, n_jobs = -1, verbose = 3)\n",
    "grid_search_GB.fit(X_train, y_train)"
   ]
  },
  {
   "cell_type": "code",
   "execution_count": null,
   "id": "e6225ff3",
   "metadata": {},
   "outputs": [],
   "source": [
    "print(\"Best parameters for Gradient Boosting:\")\n",
    "print(grid_search_GB.best_params_)\n",
    "accuracy = grid_search_GB.best_score_ * 100\n",
    "print(\"Accuracy: {:.2f}%\".format(accuracy))"
   ]
  },
  {
   "cell_type": "code",
   "execution_count": null,
   "id": "51ad6d03",
   "metadata": {},
   "outputs": [],
   "source": [
    "y_prediction = grid_search_GB.predict(X_test)\n",
    "test_accuracy = accuracy_score(y_test, y_prediction) * 100\n",
    "print(\"Accuracy of GB is: {:.2f}%\".format(test_accuracy))\n",
    "print()\n",
    "print(classification_report(y_test, y_prediction))"
   ]
  },
  {
   "cell_type": "code",
   "execution_count": null,
   "id": "b23ae61e",
   "metadata": {},
   "outputs": [],
   "source": [
    "# Plot the confusion matrix of Gradient Boosting model\n",
    "\n",
    "plot_confusion_matrix(grid_search_GB, X_test, y_test, cmap=plt.cm.Blues)\n",
    "plt.title('Confusion Matrix (GB)', fontsize=16)\n",
    "plt.xlabel('Predicted Label', fontsize=14)\n",
    "plt.ylabel('True Label', fontsize=14)\n",
    "plt.show()"
   ]
  },
  {
   "cell_type": "code",
   "execution_count": null,
   "id": "3d5190e4",
   "metadata": {},
   "outputs": [],
   "source": [
    "plot_roc_curve(grid_search_GB, X_test, y_test)\n",
    "plt.show()"
   ]
  },
  {
   "cell_type": "code",
   "execution_count": null,
   "id": "f0719f73",
   "metadata": {},
   "outputs": [],
   "source": []
  },
  {
   "cell_type": "code",
   "execution_count": null,
   "id": "b62ef9a9",
   "metadata": {},
   "outputs": [],
   "source": []
  }
 ],
 "metadata": {
  "kernelspec": {
   "display_name": "Python 3 (ipykernel)",
   "language": "python",
   "name": "python3"
  },
  "language_info": {
   "codemirror_mode": {
    "name": "ipython",
    "version": 3
   },
   "file_extension": ".py",
   "mimetype": "text/x-python",
   "name": "python",
   "nbconvert_exporter": "python",
   "pygments_lexer": "ipython3",
   "version": "3.11.5"
  }
 },
 "nbformat": 4,
 "nbformat_minor": 5
}
